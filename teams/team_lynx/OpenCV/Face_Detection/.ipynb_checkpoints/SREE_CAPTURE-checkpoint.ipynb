{
 "cells": [
  {
   "cell_type": "code",
   "execution_count": 8,
   "metadata": {},
   "outputs": [],
   "source": [
    "from PIL import Image as PIL_Image\n",
    "from datetime import datetime\n",
    "def capture_with_time_stamp(destination_path):\n",
    "    d,t=(datetime.now().strftime('%Y-%m-%d %H:%M:%S')).split(\" \")\n",
    "    y,m,d=d.split(\"-\")\n",
    "    h,mn,s=t.split(\":\")\n",
    "    #print(y,\" \",m,\" \",d)\n",
    "    fileformat1=y+\"_\"+m+\"_\"+d+\"_\"+h+\"_\"+mn+\"_\"+s\n",
    "    #print(fileformat1)\n",
    "    orig_img_path = destination_path+fileformat1+'.jpg'\n",
    "    !fswebcam  --no-banner --save {orig_img_path} -d /dev/video0 2> /dev/null\n",
    "    print(\"File save at : \",orig_img_path)\n",
    "\n",
    "\n",
    "    #img = PIL_Image.open(orig_img_path)\n",
    "    #img"
   ]
  },
  {
   "cell_type": "code",
   "execution_count": 9,
   "metadata": {},
   "outputs": [],
   "source": [
    "import time"
   ]
  },
  {
   "cell_type": "code",
   "execution_count": 10,
   "metadata": {},
   "outputs": [],
   "source": [
    "from datetime import datetime\n",
    "\n",
    "#Function Definition\n",
    "def date_time_capture():\n",
    "    d,t=(datetime.now().strftime('%Y-%m-%d %H:%M:%S')).split(\" \")\n",
    "    y,m,d=d.split(\"-\")\n",
    "    h,mn,s=t.split(\":\")\n",
    "    return str(y+\"_\"+m+\"_\"+d+\"_\"+h+\"_\"+mn+\"_\"+s)\n",
    "    \n",
    "#Function call: returns time stamp of type string in the format: YYYY_MM_DD_HH_MM_SS  \n",
    "#ex: dtc=date_time_capture() \n",
    "#returns: 2017_10_07_22_02_17\n"
   ]
  },
  {
   "cell_type": "code",
   "execution_count": 11,
   "metadata": {},
   "outputs": [
    {
     "name": "stdout",
     "output_type": "stream",
     "text": [
      "2017_10_07_23_49_55\n"
     ]
    }
   ],
   "source": [
    "dtc=date_time_capture()\n",
    "print(dtc)"
   ]
  },
  {
   "cell_type": "code",
   "execution_count": 12,
   "metadata": {},
   "outputs": [
    {
     "name": "stdout",
     "output_type": "stream",
     "text": [
      "File save at :  /home/xilinx/jupyter_notebooks/OpenCV/Face_Detection/2017_10_07_23_49_58.jpg\n",
      "Time taken to capture :  2.7580387592315674\n"
     ]
    }
   ],
   "source": [
    "#'/home/xilinx/jupyter_notebooks/common/data/\n",
    "t0=time.time()\n",
    "capture_with_time_stamp('/home/xilinx/jupyter_notebooks/OpenCV/Face_Detection/')\n",
    "print(\"Time taken to capture : \",time.time()-t0)"
   ]
  },
  {
   "cell_type": "code",
   "execution_count": 13,
   "metadata": {},
   "outputs": [
    {
     "ename": "FileNotFoundError",
     "evalue": "[Errno 2] No such file or directory: '/home/xilinx/jupyter_notebooks/common/data/2017_10_07_23_49_58.jpg'",
     "output_type": "error",
     "traceback": [
      "\u001b[0;31m---------------------------------------------------------------------------\u001b[0m",
      "\u001b[0;31mFileNotFoundError\u001b[0m                         Traceback (most recent call last)",
      "\u001b[0;32m<ipython-input-13-8d0bdea1a790>\u001b[0m in \u001b[0;36m<module>\u001b[0;34m()\u001b[0m\n\u001b[0;32m----> 1\u001b[0;31m \u001b[0mPIL_Image\u001b[0m\u001b[0;34m.\u001b[0m\u001b[0mopen\u001b[0m\u001b[0;34m(\u001b[0m\u001b[0;34m'/home/xilinx/jupyter_notebooks/common/data/2017_10_07_23_49_58.jpg'\u001b[0m\u001b[0;34m)\u001b[0m\u001b[0;34m\u001b[0m\u001b[0m\n\u001b[0m",
      "\u001b[0;32m/opt/python3.6/lib/python3.6/site-packages/PIL/Image.py\u001b[0m in \u001b[0;36mopen\u001b[0;34m(fp, mode)\u001b[0m\n\u001b[1;32m   2528\u001b[0m \u001b[0;34m\u001b[0m\u001b[0m\n\u001b[1;32m   2529\u001b[0m     \u001b[0;32mif\u001b[0m \u001b[0mfilename\u001b[0m\u001b[0;34m:\u001b[0m\u001b[0;34m\u001b[0m\u001b[0m\n\u001b[0;32m-> 2530\u001b[0;31m         \u001b[0mfp\u001b[0m \u001b[0;34m=\u001b[0m \u001b[0mbuiltins\u001b[0m\u001b[0;34m.\u001b[0m\u001b[0mopen\u001b[0m\u001b[0;34m(\u001b[0m\u001b[0mfilename\u001b[0m\u001b[0;34m,\u001b[0m \u001b[0;34m\"rb\"\u001b[0m\u001b[0;34m)\u001b[0m\u001b[0;34m\u001b[0m\u001b[0m\n\u001b[0m\u001b[1;32m   2531\u001b[0m         \u001b[0mexclusive_fp\u001b[0m \u001b[0;34m=\u001b[0m \u001b[0;32mTrue\u001b[0m\u001b[0;34m\u001b[0m\u001b[0m\n\u001b[1;32m   2532\u001b[0m \u001b[0;34m\u001b[0m\u001b[0m\n",
      "\u001b[0;31mFileNotFoundError\u001b[0m: [Errno 2] No such file or directory: '/home/xilinx/jupyter_notebooks/common/data/2017_10_07_23_49_58.jpg'"
     ]
    }
   ],
   "source": [
    "PIL_Image.open('/home/xilinx/jupyter_notebooks/OpenCV/Face_Detection/2017_10_07_23_49_58.jpg')"
   ]
  },
  {
   "cell_type": "code",
   "execution_count": null,
   "metadata": {},
   "outputs": [],
   "source": []
  }
 ],
 "metadata": {
  "kernelspec": {
   "display_name": "Python 3",
   "language": "python",
   "name": "python3"
  },
  "language_info": {
   "codemirror_mode": {
    "name": "ipython",
    "version": 3
   },
   "file_extension": ".py",
   "mimetype": "text/x-python",
   "name": "python",
   "nbconvert_exporter": "python",
   "pygments_lexer": "ipython3",
   "version": "3.6.0"
  }
 },
 "nbformat": 4,
 "nbformat_minor": 2
}
