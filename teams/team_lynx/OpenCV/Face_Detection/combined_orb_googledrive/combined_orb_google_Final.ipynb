{
 "cells": [
  {
   "cell_type": "code",
   "execution_count": 1,
   "metadata": {},
   "outputs": [],
   "source": [
    "###########################################\n",
    "# Google doc and ORB setup (run once)\n",
    "###########################################"
   ]
  },
  {
   "cell_type": "code",
   "execution_count": 2,
   "metadata": {},
   "outputs": [],
   "source": [
    "import gspread\n",
    "from oauth2client.service_account import ServiceAccountCredentials\n",
    "\n",
    "# use creds to create a client to interact with the Google Drive API\n",
    "scope = ['https://spreadsheets.google.com/feeds']\n",
    "creds = ServiceAccountCredentials.from_json_keyfile_name('client_secret.json', scope)\n",
    "client = gspread.authorize(creds)\n",
    " \n",
    "# Find a workbook by name and open the first sheet\n",
    "# Make sure you use the right name here.\n",
    "sheet = client.open(\"Xilinx_Hackathon_2017\").sheet1\n",
    "\n",
    "\n",
    "###### ORB\n",
    "# imports for ORB\n",
    "import numpy as np\n",
    "import cv2\n",
    "\n",
    "# Initiate ORB detector\n",
    "orb = cv2.ORB_create()\n",
    "\n",
    "# create BFMatcher object\n",
    "bf = cv2.BFMatcher(cv2.NORM_HAMMING, crossCheck=True)\n",
    "\n",
    "import string\n",
    "import re\n",
    "####################################\n",
    "######   Configurable items:  ######\n",
    "####################################\n",
    "# arbitary number. Fine tune once you get here\n",
    "thres_hold = 250\n"
   ]
  },
  {
   "cell_type": "code",
   "execution_count": 3,
   "metadata": {},
   "outputs": [],
   "source": [
    "#TODO: receive the cropped face from the webcam"
   ]
  },
  {
   "cell_type": "code",
   "execution_count": 4,
   "metadata": {},
   "outputs": [],
   "source": [
    "# New face from the webcam\n",
    "#TODO update this variable to reference the webcam image\n",
    "image = '1.JPG'\n",
    "\n",
    "# Find the Key point\n",
    "img = cv2.imread(image,0)          # queryImage\n",
    "\n",
    "# find the keypoints and descriptors with ORB\n",
    "kp1, des1 = orb.detectAndCompute(img,None)\n",
    "#kp2, des2 = orb.detectAndCompute(img2,None)"
   ]
  },
  {
   "cell_type": "code",
   "execution_count": 5,
   "metadata": {},
   "outputs": [],
   "source": [
    "###########################################\n",
    "# Read from the Google doc\n",
    "###########################################"
   ]
  },
  {
   "cell_type": "code",
   "execution_count": 6,
   "metadata": {},
   "outputs": [],
   "source": [
    "# Extract and print all of the values\n",
    "all_faces_str = sheet.get_all_values()"
   ]
  },
  {
   "cell_type": "code",
   "execution_count": 7,
   "metadata": {},
   "outputs": [],
   "source": [
    "# convert google doc strings to numbers\n",
    "\n",
    "data = all_faces_str[1:]\n",
    "face_order = 0\n",
    "for row in data:\n",
    "    \n",
    "    face_order += 1\n",
    "    myTotal = np.array([])\n",
    "    for element in row:\n",
    "        myArray = np.array(eval(element))\n",
    "        myTotal = np.vstack([myTotal,myArray]) if myTotal.size else myArray\n",
    "\n",
    "        \n",
    "    # convert data type\n",
    "    myTotal_uint8 = np.uint8(myTotal) \n",
    "    \n",
    "    # Add each image descriptor list from the database\n",
    "    clusters = np.array([myTotal_uint8])\n",
    "    bf.add(clusters)\n",
    "    \n",
    "    # Train: Does nothing for BruteForceMatcher though.\n",
    "    bf.train()\n",
    "    \n",
    "    matches = bf.match(des1,myTotal_uint8)\n",
    "    matches = sorted(matches, key = lambda x:x.distance)\n",
    "    \n",
    "    facest_face = 0\n",
    "    numb_matches = (len(matches))\n",
    "    if numb_matches > facest_face:\n",
    "        facest_face = numb_matches\n",
    "    \n",
    "    face_found = False\n",
    "    if facest_face > thres_hold:\n",
    "        face_found = True\n",
    "        found_face_order = face_order\n",
    "\n",
    "    #print(facest_face)\n",
    "    #print(face_found)"
   ]
  },
  {
   "cell_type": "code",
   "execution_count": 8,
   "metadata": {},
   "outputs": [
    {
     "name": "stdout",
     "output_type": "stream",
     "text": [
      "FACE FOUND! Face number:\n",
      "2\n"
     ]
    }
   ],
   "source": [
    "# Add face to database if not found, otherwise report the face\n",
    "\n",
    "if face_found == True:\n",
    "    print (\"FACE FOUND! Face number:\")\n",
    "    print (found_face_order)\n",
    "else:\n",
    "    print (\"Face NOT found. adding face to database\")\n",
    "    sheet.append_row('')\n",
    "    col_in = 1\n",
    "    row_in = sheet.row_count\n",
    "\n",
    "    collumn_list = []\n",
    "    des_cnt = 0\n",
    "    des_per_cell = 100\n",
    "    for collumn in des1:\n",
    "\n",
    "        collumn_list.append(collumn.tolist())\n",
    "        # Append des_per_cell # of collumns into a single collumn and upload\n",
    "        if des_cnt >= des_per_cell -1:\n",
    "            print (\"cloud\")\n",
    "            sheet.update_cell(row_in, col_in, collumn_list)\n",
    "            collumn_list = []\n",
    "            col_in += 1\n",
    "            des_cnt = 0\n",
    "        else:\n",
    "            des_cnt += 1"
   ]
  }
 ],
 "metadata": {
  "kernelspec": {
   "display_name": "Python 3",
   "language": "python",
   "name": "python3"
  },
  "language_info": {
   "codemirror_mode": {
    "name": "ipython",
    "version": 3
   },
   "file_extension": ".py",
   "mimetype": "text/x-python",
   "name": "python",
   "nbconvert_exporter": "python",
   "pygments_lexer": "ipython3",
   "version": "3.6.0"
  }
 },
 "nbformat": 4,
 "nbformat_minor": 2
}
