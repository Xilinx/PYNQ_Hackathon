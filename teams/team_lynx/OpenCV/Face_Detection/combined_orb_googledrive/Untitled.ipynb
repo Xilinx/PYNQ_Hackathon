{
 "cells": [
  {
   "cell_type": "code",
   "execution_count": 1,
   "metadata": {},
   "outputs": [],
   "source": [
    "import gspread\n",
    "from oauth2client.service_account import ServiceAccountCredentials\n",
    "\n",
    "# use creds to create a client to interact with the Google Drive API\n",
    "scope = ['https://spreadsheets.google.com/feeds']\n",
    "creds = ServiceAccountCredentials.from_json_keyfile_name('client_secret.json', scope)\n",
    "client = gspread.authorize(creds)\n",
    " \n",
    "# Find a workbook by name and open the first sheet\n",
    "# Make sure you use the right name here.\n",
    "sheet = client.open(\"Xilinx_Hackathon_2017\").sheet1"
   ]
  },
  {
   "cell_type": "code",
   "execution_count": 2,
   "metadata": {},
   "outputs": [
    {
     "name": "stdout",
     "output_type": "stream",
     "text": [
      "[['Filler', '', '', ''], ['[[1,2,3],[4,5,6]]', '[[10,20,30],[40,50,60]]', '[[11,21,13],[41,51,61]]', '[[12,22,32],[42,52,62]]']]\n"
     ]
    }
   ],
   "source": [
    "# Extract and print all of the values\n",
    "all_faces_str = sheet.get_all_values()\n",
    "print(all_faces_str)"
   ]
  },
  {
   "cell_type": "code",
   "execution_count": 3,
   "metadata": {},
   "outputs": [
    {
     "name": "stdout",
     "output_type": "stream",
     "text": [
      "[['[[1,2,3],[4,5,6]]', '[[10,20,30],[40,50,60]]', '[[11,21,13],[41,51,61]]', '[[12,22,32],[42,52,62]]']]\n"
     ]
    }
   ],
   "source": [
    "data = all_faces_str[1:]\n",
    "print (data)"
   ]
  },
  {
   "cell_type": "code",
   "execution_count": 4,
   "metadata": {},
   "outputs": [
    {
     "data": {
      "text/plain": [
       "list"
      ]
     },
     "execution_count": 4,
     "metadata": {},
     "output_type": "execute_result"
    }
   ],
   "source": [
    "type (data)"
   ]
  },
  {
   "cell_type": "code",
   "execution_count": 6,
   "metadata": {},
   "outputs": [
    {
     "name": "stdout",
     "output_type": "stream",
     "text": [
      "['[[1,2,3],[4,5,6]]', '[[10,20,30],[40,50,60]]', '[[11,21,13],[41,51,61]]', '[[12,22,32],[42,52,62]]']\n"
     ]
    }
   ],
   "source": [
    "realData = data[0]\n",
    "print (realData)"
   ]
  },
  {
   "cell_type": "code",
   "execution_count": 15,
   "metadata": {},
   "outputs": [
    {
     "name": "stdout",
     "output_type": "stream",
     "text": [
      "<class 'numpy.ndarray'>\n",
      "[[1 2 3]\n",
      " [4 5 6]]\n"
     ]
    }
   ],
   "source": [
    "import numpy as np\n",
    "\n",
    "firstElement = data[0][0]\n",
    "firstList = np.array(eval(firstElement))\n",
    "print (type(firstList))\n",
    "print (firstList)"
   ]
  },
  {
   "cell_type": "code",
   "execution_count": 26,
   "metadata": {},
   "outputs": [
    {
     "name": "stdout",
     "output_type": "stream",
     "text": [
      "[[ 1  2  3]\n",
      " [ 4  5  6]\n",
      " [10 20 30]\n",
      " [40 50 60]\n",
      " [11 21 13]\n",
      " [41 51 61]\n",
      " [12 22 32]\n",
      " [42 52 62]]\n"
     ]
    }
   ],
   "source": [
    "\n",
    "\n",
    "\n",
    "\n",
    "myTotal = np.array([])\n",
    "for element in data[0]:\n",
    "   myArray = np.array(eval(element))\n",
    "   #print (myArray)\n",
    "   myTotal = np.vstack([myTotal,myArray]) if myTotal.size else myArray\n",
    "   \n",
    "\n",
    "print (myTotal)\n",
    "    \n",
    "    \n"
   ]
  },
  {
   "cell_type": "code",
   "execution_count": null,
   "metadata": {},
   "outputs": [],
   "source": []
  }
 ],
 "metadata": {
  "kernelspec": {
   "display_name": "Python 3",
   "language": "python",
   "name": "python3"
  },
  "language_info": {
   "codemirror_mode": {
    "name": "ipython",
    "version": 3
   },
   "file_extension": ".py",
   "mimetype": "text/x-python",
   "name": "python",
   "nbconvert_exporter": "python",
   "pygments_lexer": "ipython3",
   "version": "3.6.0"
  }
 },
 "nbformat": 4,
 "nbformat_minor": 2
}
