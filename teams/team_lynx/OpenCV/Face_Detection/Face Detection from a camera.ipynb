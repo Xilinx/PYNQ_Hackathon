{
 "cells": [
  {
   "cell_type": "code",
   "execution_count": null,
   "metadata": {},
   "outputs": [
    {
     "name": "stdout",
     "output_type": "stream",
     "text": [
      "Usage:/opt/python3.6/lib/python3.6/site-packages/ipykernel_launcher.py camera_id\r\n",
      "\n"
     ]
    }
   ],
   "source": [
    "import cv2\n",
    "import sys\n",
    "from PIL import Image\n",
    "\n",
    "def CatchUsbVideo(window_name, camera_idx):\n",
    "    cv2.namedWindow(window_name)\n",
    "    \n",
    "    #The video could be captured from a camera or saved video \n",
    "    cap = cv2.VideoCapture(camera_idx)                \n",
    "    \n",
    "    #Use CascadeClassifier in openCV\n",
    "    classfier = cv2.CascadeClassifier(\"/usr/local/share/OpenCV/haarcascades/haarcascade_frontalface_alt2.xml\")\n",
    "    \n",
    "    #识别出人脸后要画的边框的颜色，RGB\n",
    "    color = (0, 255, 0)\n",
    "        \n",
    "    while cap.isOpened():\n",
    "        flag, frame = cap.read() #Read every frame\n",
    "        if not flag:            \n",
    "            break  \n",
    "\n",
    "        #Change every frame from color to gray\n",
    "        grey = cv2.cvtColor(frame, cv2.COLOR_BGR2GRAY)                 \n",
    "        \n",
    "        #Detect faces，1.2和2分别为图片缩放比例和需要检测的有效点数\n",
    "        faceRects = classfier.detectMultiScale(grey, scaleFactor = 1.2, minNeighbors = 3, minSize = (32, 32))\n",
    "        if len(faceRects) > 0:            #Face if > 0                                   \n",
    "            for faceRect in faceRects:  #rectangle every face\n",
    "                x, y, w, h = faceRect        \n",
    "                cv2.rectangle(frame, (x - 10, y - 10), (x + w + 10, y + h + 10), color, 2)\n",
    "                        \n",
    "        #show the image\n",
    "        cv2.startWindowThread()\n",
    "        cv2.imshow(window_name, frame)        \n",
    "        c = cv2.waitKey(10)\n",
    "        if c & 0xFF == ord('q'):\n",
    "            break        \n",
    "    \n",
    "    #Release the camera and destroy all windows\n",
    "    cap.release()\n",
    "    cv2.destroyAllWindows() \n",
    "    \n",
    "if __name__ == '__main__':\n",
    "    if len(sys.argv) != 2:\n",
    "        print(\"Usage:%s camera_id\\r\\n\" % (sys.argv[0]))\n",
    "    else:\n",
    "        CatchUsbVideo(\"Face Detection Area\", int(sys.argv[1]))"
   ]
  },
  {
   "cell_type": "code",
   "execution_count": null,
   "metadata": {
    "collapsed": true
   },
   "outputs": [],
   "source": [
    "CatchUsbVideo('Video', 0)"
   ]
  },
  {
   "cell_type": "code",
   "execution_count": null,
   "metadata": {
    "collapsed": true
   },
   "outputs": [],
   "source": [
    "import cv2\n",
    "import numpy as np\n",
    "import os\n",
    "import matplotlib.pyplot as plt\n",
    "\n",
    "img = cv2.imread('01.png')\n",
    "plt.imshow(img)\n",
    "plt.show()"
   ]
  }
 ],
 "metadata": {
  "celltoolbar": "Raw Cell Format",
  "kernelspec": {
   "display_name": "Python 3",
   "language": "python",
   "name": "python3"
  },
  "language_info": {
   "codemirror_mode": {
    "name": "ipython",
    "version": 3
   },
   "file_extension": ".py",
   "mimetype": "text/x-python",
   "name": "python",
   "nbconvert_exporter": "python",
   "pygments_lexer": "ipython3",
   "version": "3.6.0"
  }
 },
 "nbformat": 4,
 "nbformat_minor": 2
}
