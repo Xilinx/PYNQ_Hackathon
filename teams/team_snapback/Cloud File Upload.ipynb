{
 "cells": [
  {
   "cell_type": "markdown",
   "metadata": {},
   "source": [
    "## Cloud Link\n",
    "This bit of code uploads the videos to the cloud using the dropbox api. Note this is python 2.7 so the code needs to be run using a command line from python 3.\n",
    "\n",
    "Python 3"
   ]
  },
  {
   "cell_type": "code",
   "execution_count": 5,
   "metadata": {},
   "outputs": [],
   "source": [
    "import os\n",
    "\n",
    "try:\n",
    "    #run the program\n",
    "    os.system(\"python drop.py\")\n",
    "except Exception as err:\n",
    "    print(\"Failed to run drop box with\",err)\n"
   ]
  },
  {
   "cell_type": "markdown",
   "metadata": {},
   "source": [
    "Python 2.7 being called"
   ]
  },
  {
   "cell_type": "code",
   "execution_count": 7,
   "metadata": {},
   "outputs": [
    {
     "ename": "SyntaxError",
     "evalue": "invalid syntax (<ipython-input-7-a22f1a9083aa>, line 20)",
     "output_type": "error",
     "traceback": [
      "\u001b[0;36m  File \u001b[0;32m\"<ipython-input-7-a22f1a9083aa>\"\u001b[0;36m, line \u001b[0;32m20\u001b[0m\n\u001b[0;31m    print 'Uploading %s to %s' % (file_path, dest_path)\u001b[0m\n\u001b[0m                             ^\u001b[0m\n\u001b[0;31mSyntaxError\u001b[0m\u001b[0;31m:\u001b[0m invalid syntax\n"
     ]
    }
   ],
   "source": [
    "import dropbox, sys, os\n",
    "\n",
    "#Key for using the Dropbox API\n",
    "dbx = dropbox.Dropbox('PQP4kBo8X-AAAAAAAAABCru0hFHK9T4rnvf72tVl7u4zN3TfduXgtu7Eg5PJecHd')\n",
    "\n",
    "#Location of desired files\n",
    "rootdir = '/home/xilinx/jupyter_notebooks/common/data'\n",
    "\n",
    "print('Attempting to upload...')\n",
    "\n",
    "#counts the number of errors\n",
    "counter = 0\n",
    "\n",
    "#Traverse the files in the directory\n",
    "for dir, dirs, files in os.walk(rootdir):\n",
    "\tfor file in files:\n",
    "        if file[-3:] == \"mp4\"\n",
    "        #upload file\n",
    "        try:\n",
    "\t\t\tfile_path = os.path.join(dir,file)\n",
    "\t\t\tdest_path = os.path.join('/SnapBack',file)\n",
    "\t\t\tprint 'Uploading %s to %s' % (file_path, dest_path)\n",
    "\t\t\twith open(file_path) as f:\n",
    "\t\t\t\tdbx.files_upload(f.read(), dest_path, mute = True)\n",
    "        #Error catching\n",
    "        except Exception as err:\n",
    "\t\t\tprint(\"Failed to upload %s\\n%s\" % (file, err))\n",
    "\t\t\tcounter += 1\n",
    "\n",
    "#finished\n",
    "print(\"Finished with %i errors\" % (counter))"
   ]
  },
  {
   "cell_type": "code",
   "execution_count": null,
   "metadata": {},
   "outputs": [],
   "source": []
  }
 ],
 "metadata": {
  "kernelspec": {
   "display_name": "Python 3",
   "language": "python",
   "name": "python3"
  },
  "language_info": {
   "codemirror_mode": {
    "name": "ipython",
    "version": 3
   },
   "file_extension": ".py",
   "mimetype": "text/x-python",
   "name": "python",
   "nbconvert_exporter": "python",
   "pygments_lexer": "ipython3",
   "version": "3.6.0"
  }
 },
 "nbformat": 4,
 "nbformat_minor": 2
}
